{
 "cells": [
  {
   "cell_type": "code",
   "execution_count": 59,
   "id": "b60c4ca9",
   "metadata": {},
   "outputs": [
    {
     "name": "stdout",
     "output_type": "stream",
     "text": [
      "Entrez la phrase à coder :dsfdrg\n",
      "La phrase à coder est : dsfdrg\n",
      "['d', 's', 'f', 'd', 'r', 'g']\n"
     ]
    }
   ],
   "source": [
    "import string\n",
    "\n",
    "alphabet = list(string.ascii_lowercase)\n",
    "\n",
    "class Machine:\n",
    "    def __init__(self, rotor, reflecteur, tableau):\n",
    "        self.rotor = rotor\n",
    "        self.reflecteur = reflecteur\n",
    "        self.tableau = tableau\n",
    "\n",
    "phrase_a_coder = input(\"Entrez la phrase à coder :\")\n",
    "phrase_a_coder = phrase_a_coder.lower()\n",
    "print(\"La phrase à coder est : \" + phrase_a_coder)\n",
    "\n",
    "caractres_phrase_a_coder = list(phrase_a_coder)\n",
    "print(caractres_phrase_a_coder)\n",
    "\n",
    "\n",
    "class Rotor:\n",
    "    def __init__(self, position_depart, alphabet):\n",
    "        self.position_depart = position_depart\n",
    "        self.alphabet = alphabet\n",
    "\n",
    "\n",
    "def decale_alphabet(alphabet):\n",
    "    alphabet = alphabet[1:] + [alphabet[0]]\n",
    "    return alphabet\n",
    "\n",
    "def creation_rotor(position_depart):\n",
    "    rotor = Rotor(position_depart, alphabet[position_depart-1:] + alphabet[:position_depart+1]) #car a = 0, etc. donc on décale\n",
    "    print(rotor.position_depart, rotor.alphabet)\n",
    "    return rotor.position_depart, rotor.alphabet\n",
    "\n",
    "def rotor_tourne(position_depart, alphabet):\n",
    "    rotor = Rotor(position_depart, decale_alphabet(alphabet))\n",
    "    print(rotor.position_depart, rotor.alphabet)\n",
    "    return rotor.position_depart, rotor.alphabet"
   ]
  },
  {
   "cell_type": "code",
   "execution_count": 55,
   "id": "78e21290",
   "metadata": {},
   "outputs": [
    {
     "name": "stdout",
     "output_type": "stream",
     "text": [
      "['g', 'h', 'i', 'j', 'k', 'l', 'm', 'n', 'o', 'p', 'q', 'r', 's', 't', 'u', 'v', 'w', 'x', 'y', 'z', 'a', 'b', 'c', 'd', 'e', 'f']\n",
      "['h', 'i', 'j', 'k', 'l', 'm', 'n', 'o', 'p', 'q', 'r', 's', 't', 'u', 'v', 'w', 'x', 'y', 'z', 'a', 'b', 'c', 'd', 'e', 'f', 'g']\n"
     ]
    }
   ],
   "source": [
    "\n",
    "alphabet = list(string.ascii_lowercase)\n",
    "alphabet = alphabet[6:] + alphabet[0:6]\n",
    "\n",
    "def decale_alphabet(alphabet):\n",
    "    alphabet = alphabet[1:] + [alphabet[0]]\n",
    "    return alphabet\n",
    "\n",
    "print(alphabet)\n",
    "print(decale_alphabet(alphabet))"
   ]
  },
  {
   "cell_type": "code",
   "execution_count": 61,
   "id": "91698c21",
   "metadata": {},
   "outputs": [
    {
     "name": "stdout",
     "output_type": "stream",
     "text": [
      "6 ['f', 'g', 'h', 'i', 'j', 'k', 'l', 'm', 'n', 'o', 'p', 'q', 'r', 's', 't', 'u', 'v', 'w', 'x', 'y', 'z', 'a', 'b', 'c', 'd', 'e', 'f', 'g']\n",
      "(6, ['f', 'g', 'h', 'i', 'j', 'k', 'l', 'm', 'n', 'o', 'p', 'q', 'r', 's', 't', 'u', 'v', 'w', 'x', 'y', 'z', 'a', 'b', 'c', 'd', 'e', 'f', 'g'])\n",
      "6 ['g', 'h', 'i', 'j', 'k', 'l', 'm', 'n', 'o', 'p', 'q', 'r', 's', 't', 'u', 'v', 'w', 'x', 'y', 'z', 'a', 'b', 'c', 'd', 'e', 'f', 'g', 'f']\n",
      "(6, ['g', 'h', 'i', 'j', 'k', 'l', 'm', 'n', 'o', 'p', 'q', 'r', 's', 't', 'u', 'v', 'w', 'x', 'y', 'z', 'a', 'b', 'c', 'd', 'e', 'f', 'g', 'f'])\n",
      "6 ['h', 'i', 'j', 'k', 'l', 'm', 'n', 'o', 'p', 'q', 'r', 's', 't', 'u', 'v', 'w', 'x', 'y', 'z', 'a', 'b', 'c', 'd', 'e', 'f', 'g', 'f', 'g']\n",
      "(6, ['h', 'i', 'j', 'k', 'l', 'm', 'n', 'o', 'p', 'q', 'r', 's', 't', 'u', 'v', 'w', 'x', 'y', 'z', 'a', 'b', 'c', 'd', 'e', 'f', 'g', 'f', 'g'])\n"
     ]
    }
   ],
   "source": [
    "# MAIN\n",
    "rotor1 = creation_rotor(6)\n",
    "print(rotor1)\n",
    "rotor1 = rotor_tourne(rotor1[0], rotor1[1])\n",
    "print(rotor1)\n",
    "rotor1 = rotor_tourne(rotor1[0], rotor1[1])\n",
    "print(rotor1)"
   ]
  },
  {
   "cell_type": "code",
   "execution_count": 63,
   "id": "fe09ed0d",
   "metadata": {},
   "outputs": [
    {
     "data": {
      "text/plain": [
       "(6,\n",
       " ['h',\n",
       "  'i',\n",
       "  'j',\n",
       "  'k',\n",
       "  'l',\n",
       "  'm',\n",
       "  'n',\n",
       "  'o',\n",
       "  'p',\n",
       "  'q',\n",
       "  'r',\n",
       "  's',\n",
       "  't',\n",
       "  'u',\n",
       "  'v',\n",
       "  'w',\n",
       "  'x',\n",
       "  'y',\n",
       "  'z',\n",
       "  'a',\n",
       "  'b',\n",
       "  'c',\n",
       "  'd',\n",
       "  'e',\n",
       "  'f',\n",
       "  'g',\n",
       "  'f',\n",
       "  'g'])"
      ]
     },
     "execution_count": 63,
     "metadata": {},
     "output_type": "execute_result"
    }
   ],
   "source": [
    "rotor1"
   ]
  },
  {
   "cell_type": "code",
   "execution_count": 23,
   "id": "e6d88848",
   "metadata": {},
   "outputs": [
    {
     "data": {
      "text/plain": [
       "['g',\n",
       " 'h',\n",
       " 'i',\n",
       " 'j',\n",
       " 'k',\n",
       " 'l',\n",
       " 'm',\n",
       " 'n',\n",
       " 'o',\n",
       " 'p',\n",
       " 'q',\n",
       " 'r',\n",
       " 's',\n",
       " 't',\n",
       " 'u',\n",
       " 'v',\n",
       " 'w',\n",
       " 'x',\n",
       " 'y',\n",
       " 'z']"
      ]
     },
     "execution_count": 23,
     "metadata": {},
     "output_type": "execute_result"
    }
   ],
   "source": [
    "alphabet[6:]"
   ]
  },
  {
   "cell_type": "code",
   "execution_count": 25,
   "id": "5c2094e0",
   "metadata": {},
   "outputs": [
    {
     "data": {
      "text/plain": [
       "['a', 'b', 'c', 'd', 'e', 'f']"
      ]
     },
     "execution_count": 25,
     "metadata": {},
     "output_type": "execute_result"
    }
   ],
   "source": [
    "alphabet[0:6]"
   ]
  },
  {
   "cell_type": "code",
   "execution_count": 18,
   "id": "b04db61d",
   "metadata": {},
   "outputs": [
    {
     "name": "stdout",
     "output_type": "stream",
     "text": [
      "a\n",
      "['r', 'e', 'z', 'a']\n",
      "4\n"
     ]
    }
   ],
   "source": [
    "print(alphabet[0])\n",
    "print(caractres_phrase_a_coder)\n",
    "print(caractres_phrase_a_coder.index(\"a\")+1)"
   ]
  }
 ],
 "metadata": {
  "kernelspec": {
   "display_name": "Python 3 (ipykernel)",
   "language": "python",
   "name": "python3"
  },
  "language_info": {
   "codemirror_mode": {
    "name": "ipython",
    "version": 3
   },
   "file_extension": ".py",
   "mimetype": "text/x-python",
   "name": "python",
   "nbconvert_exporter": "python",
   "pygments_lexer": "ipython3",
   "version": "3.11.1"
  }
 },
 "nbformat": 4,
 "nbformat_minor": 5
}
