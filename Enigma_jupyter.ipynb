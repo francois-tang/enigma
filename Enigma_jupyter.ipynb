{
 "cells": [
  {
   "cell_type": "code",
   "execution_count": null,
   "id": "b60c4ca9",
   "metadata": {},
   "outputs": [],
   "source": [
    "import string\n",
    "\n",
    "alphabet_initial = list(string.ascii_lowercase)\n",
    "alphabet_initial_inverse = alphabet_initial[::-1]\n",
    "\n",
    "class Machine:\n",
    "    def __init__(self, rotor, reflecteur, tableau):\n",
    "        self.rotor = rotor\n",
    "        self.reflecteur = reflecteur\n",
    "        self.tableau = tableau\n",
    "\n",
    "phrase_a_coder = input(\"Entrez la phrase à coder :\")\n",
    "phrase_a_coder = phrase_a_coder.lower()\n",
    "print(\"La phrase à coder est : \" + phrase_a_coder)\n",
    "\n",
    "caractres_phrase_a_coder = list(phrase_a_coder)\n",
    "print(caractres_phrase_a_coder)\n",
    "\n",
    "\n",
    "class Rotor:\n",
    "    def __init__(self, position_depart, alphabet):\n",
    "        self.position_depart = position_depart\n",
    "        self.alphabet = alphabet\n",
    "\n",
    "\n",
    "def decale_alphabet(alphabet):\n",
    "    alphabet = alphabet[1:] + [alphabet[0]]\n",
    "    return alphabet\n",
    "\n",
    "def creation_rotor(position_depart):\n",
    "    rotor = Rotor(position_depart, alphabet[position_depart-1:] + alphabet[:position_depart+1]) #car a = 0, etc. donc on décale\n",
    "    print(rotor.position_depart, rotor.alphabet)\n",
    "    return rotor.position_depart, rotor.alphabet\n",
    "\n",
    "def rotor_tourne(position_depart, alphabet):\n",
    "    rotor = Rotor(position_depart, decale_alphabet(alphabet))\n",
    "    print(rotor.position_depart, rotor.alphabet)\n",
    "    return rotor.position_depart, rotor.alphabet"
   ]
  },
  {
   "cell_type": "code",
   "execution_count": null,
   "id": "78e21290",
   "metadata": {},
   "outputs": [],
   "source": [
    "\n",
    "alphabet = list(string.ascii_lowercase)\n",
    "alphabet = alphabet[6:] + alphabet[0:6]\n",
    "\n",
    "def decale_alphabet(alphabet):\n",
    "    alphabet = alphabet[1:] + [alphabet[0]]\n",
    "    return alphabet\n",
    "\n",
    "print(alphabet)\n",
    "print(decale_alphabet(alphabet))"
   ]
  },
  {
   "cell_type": "code",
   "execution_count": null,
   "id": "91698c21",
   "metadata": {},
   "outputs": [],
   "source": [
    "# MAIN\n",
    "rotor1 = creation_rotor(6)\n",
    "print(rotor1)\n",
    "rotor1 = rotor_tourne(rotor1[0], rotor1[1])\n",
    "print(rotor1)\n",
    "rotor1 = rotor_tourne(rotor1[0], rotor1[1])\n",
    "print(rotor1)"
   ]
  },
  {
   "cell_type": "code",
   "execution_count": null,
   "id": "fe09ed0d",
   "metadata": {},
   "outputs": [],
   "source": [
    "rotor1"
   ]
  },
  {
   "cell_type": "code",
   "execution_count": null,
   "id": "e6d88848",
   "metadata": {},
   "outputs": [],
   "source": [
    "alphabet[6:]"
   ]
  },
  {
   "cell_type": "code",
   "execution_count": null,
   "id": "5c2094e0",
   "metadata": {},
   "outputs": [],
   "source": [
    "alphabet[0:6]"
   ]
  },
  {
   "cell_type": "code",
   "execution_count": null,
   "id": "b04db61d",
   "metadata": {},
   "outputs": [],
   "source": [
    "print(alphabet[0])\n",
    "print(caractres_phrase_a_coder)\n",
    "print(caractres_phrase_a_coder.index(\"a\")+1)"
   ]
  },
  {
   "cell_type": "code",
   "execution_count": 2,
   "id": "1711ce55",
   "metadata": {},
   "outputs": [
    {
     "name": "stdout",
     "output_type": "stream",
     "text": [
      "['a', 'b', 'c', 'd', 'e', 'f', 'g', 'h', 'i', 'j', 'k', 'l', 'm', 'n', 'o', 'p', 'q', 'r', 's', 't', 'u', 'v', 'w', 'x', 'y', 'z']\n",
      "['z', 'y', 'x', 'w', 'v', 'u', 't', 's', 'r', 'q', 'p', 'o', 'n', 'm', 'l', 'k', 'j', 'i', 'h', 'g', 'f', 'e', 'd', 'c', 'b', 'a']\n"
     ]
    }
   ],
   "source": [
    "import string\n",
    "\n",
    "alphabet_initial = list(string.ascii_lowercase)\n",
    "alphabet_initial_inverse = alphabet_initial[::-1]\n",
    "\n",
    "print(alphabet_initial)\n",
    "print(alphabet_initial_inverse)"
   ]
  }
 ],
 "metadata": {
  "kernelspec": {
   "display_name": "Python 3 (ipykernel)",
   "language": "python",
   "name": "python3"
  },
  "language_info": {
   "codemirror_mode": {
    "name": "ipython",
    "version": 3
   },
   "file_extension": ".py",
   "mimetype": "text/x-python",
   "name": "python",
   "nbconvert_exporter": "python",
   "pygments_lexer": "ipython3",
   "version": "3.10.9"
  }
 },
 "nbformat": 4,
 "nbformat_minor": 5
}
