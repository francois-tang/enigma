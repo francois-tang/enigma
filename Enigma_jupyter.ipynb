{
 "cells": [
  {
   "cell_type": "code",
   "execution_count": null,
   "id": "b60c4ca9",
   "metadata": {},
   "outputs": [],
   "source": [
    "import string\n",
    "\n",
    "alphabet_initial = list(string.ascii_lowercase)\n",
    "alphabet_initial_inverse = alphabet_initial[::-1]\n",
    "\n",
    "class Machine:\n",
    "    def __init__(self, rotor, reflecteur, tableau):\n",
    "        self.rotor = rotor\n",
    "        self.reflecteur = reflecteur\n",
    "        self.tableau = tableau\n",
    "\n",
    "phrase_a_coder = input(\"Entrez la phrase à coder :\")\n",
    "phrase_a_coder = phrase_a_coder.lower()\n",
    "print(\"La phrase à coder est : \" + phrase_a_coder)\n",
    "\n",
    "caractres_phrase_a_coder = list(phrase_a_coder)\n",
    "print(caractres_phrase_a_coder)\n",
    "\n",
    "\n",
    "class Rotor:\n",
    "    def __init__(self, position_depart, alphabet):\n",
    "        self.position_depart = position_depart\n",
    "        self.alphabet = alphabet\n",
    "\n",
    "\n",
    "def decale_alphabet(alphabet):\n",
    "    alphabet = alphabet[1:] + [alphabet[0]]\n",
    "    return alphabet\n",
    "\n",
    "def creation_rotor(position_depart):\n",
    "    rotor = Rotor(position_depart, alphabet[position_depart-1:] + alphabet[:position_depart+1]) #car a = 0, etc. donc on décale\n",
    "    print(rotor.position_depart, rotor.alphabet)\n",
    "    return rotor.position_depart, rotor.alphabet\n",
    "\n",
    "def rotor_tourne(position_depart, alphabet):\n",
    "    rotor = Rotor(position_depart, decale_alphabet(alphabet))\n",
    "    print(rotor.position_depart, rotor.alphabet)\n",
    "    return rotor.position_depart, rotor.alphabet"
   ]
  },
  {
   "cell_type": "code",
   "execution_count": null,
   "id": "78e21290",
   "metadata": {},
   "outputs": [],
   "source": [
    "\n",
    "alphabet = list(string.ascii_lowercase)\n",
    "alphabet = alphabet[6:] + alphabet[0:6]\n",
    "\n",
    "def decale_alphabet(alphabet):\n",
    "    alphabet = alphabet[1:] + [alphabet[0]]\n",
    "    return alphabet\n",
    "\n",
    "print(alphabet)\n",
    "print(decale_alphabet(alphabet))"
   ]
  },
  {
   "cell_type": "code",
   "execution_count": null,
   "id": "91698c21",
   "metadata": {},
   "outputs": [],
   "source": [
    "# MAIN\n",
    "rotor1 = creation_rotor(6)\n",
    "print(rotor1)\n",
    "rotor1 = rotor_tourne(rotor1[0], rotor1[1])\n",
    "print(rotor1)\n",
    "rotor1 = rotor_tourne(rotor1[0], rotor1[1])\n",
    "print(rotor1)"
   ]
  },
  {
   "cell_type": "code",
   "execution_count": null,
   "id": "fe09ed0d",
   "metadata": {},
   "outputs": [],
   "source": [
    "rotor1"
   ]
  },
  {
   "cell_type": "code",
   "execution_count": null,
   "id": "e6d88848",
   "metadata": {},
   "outputs": [],
   "source": [
    "alphabet[6:]"
   ]
  },
  {
   "cell_type": "code",
   "execution_count": null,
   "id": "5c2094e0",
   "metadata": {},
   "outputs": [],
   "source": [
    "alphabet[0:6]"
   ]
  },
  {
   "cell_type": "code",
   "execution_count": null,
   "id": "b04db61d",
   "metadata": {},
   "outputs": [],
   "source": [
    "print(alphabet[0])\n",
    "print(caractres_phrase_a_coder)\n",
    "print(caractres_phrase_a_coder.index(\"a\")+1)"
   ]
  },
  {
   "cell_type": "code",
   "execution_count": 2,
   "id": "6ee39d22",
   "metadata": {},
   "outputs": [
    {
     "name": "stdout",
     "output_type": "stream",
     "text": [
      "['a', 'b', 'c', 'd', 'e', 'f', 'g', 'h', 'i', 'j', 'k', 'l', 'm', 'n', 'o', 'p', 'q', 'r', 's', 't', 'u', 'v', 'w', 'x', 'y', 'z']\n",
      "['z', 'y', 'x', 'w', 'v', 'u', 't', 's', 'r', 'q', 'p', 'o', 'n', 'm', 'l', 'k', 'j', 'i', 'h', 'g', 'f', 'e', 'd', 'c', 'b', 'a']\n"
     ]
    }
   ],
   "source": [
    "import string\n",
    "\n",
    "alphabet_initial = list(string.ascii_lowercase)\n",
    "alphabet_initial_inverse = alphabet_initial[::-1]\n",
    "\n",
    "print(alphabet_initial)\n",
    "print(alphabet_initial_inverse)"
   ]
  },
  {
   "cell_type": "code",
   "execution_count": 3,
   "id": "12f64d0c",
   "metadata": {},
   "outputs": [
    {
     "name": "stdout",
     "output_type": "stream",
     "text": [
      "True\n"
     ]
    }
   ],
   "source": [
    "string = \"fsdsd,3\"\n",
    "\n",
    "res = isinstance(string, str)\n",
    "print(res)"
   ]
  },
  {
   "cell_type": "code",
   "execution_count": 5,
   "id": "5aa502dc",
   "metadata": {},
   "outputs": [
    {
     "data": {
      "text/plain": [
       "True"
      ]
     },
     "execution_count": 5,
     "metadata": {},
     "output_type": "execute_result"
    }
   ],
   "source": [
    "def est_longueur_dix(chaine):\n",
    "    return len(chaine) == 10\n",
    "\n",
    "est_longueur_dix(\"dqdqdqdqdq\")"
   ]
  },
  {
   "cell_type": "code",
   "execution_count": 12,
   "id": "99634d6b",
   "metadata": {},
   "outputs": [
    {
     "name": "stdout",
     "output_type": "stream",
     "text": [
      "['a', 'b', 'c', 'd', 'e', 'f', 'g', 'h', 'i', 'j', 'k', 'l', 'm', 'n', 'o', 'p', 'q', 'r', 's', 't']\n",
      "['k', 'l', 'm', 'n', 'o', 'p', 'q', 'r', 's', 't', 'a', 'b', 'c', 'd', 'e', 'f', 'g', 'h', 'i', 'j']\n"
     ]
    }
   ],
   "source": [
    "premier_couple = list(\"abcdefghij\")\n",
    "deuxieme_couple = list(\"klmnopqrst\")\n",
    "\n",
    "couple_initial = premier_couple + deuxieme_couple\n",
    "couple_initial_inverse = deuxieme_couple + premier_couple\n",
    "\n",
    "print(couple_initial)\n",
    "print(couple_initial_inverse)"
   ]
  },
  {
   "cell_type": "code",
   "execution_count": 24,
   "id": "8c51708e",
   "metadata": {},
   "outputs": [],
   "source": [
    "def est_entre_1_a_26(caractere):\n",
    "    if caractere in range(1,27):\n",
    "        return True\n",
    "    else:\n",
    "        return False"
   ]
  },
  {
   "cell_type": "code",
   "execution_count": 29,
   "id": "7b34395a",
   "metadata": {},
   "outputs": [],
   "source": [
    "position_rotor1 = 27\n",
    "if True and est_entre_1_a_26(int(position_rotor1)):\n",
    "    print(\"La position du rotor 1 est : \" + position_rotor1)\n",
    "else:\n",
    "    while False and est_entre_1_a_26(int(position_rotor1)):\n",
    "        print(\"La position du rotor 1 est : \" + position_rotor1)"
   ]
  },
  {
   "cell_type": "code",
   "execution_count": 34,
   "id": "8ca1d94f",
   "metadata": {},
   "outputs": [
    {
     "name": "stdout",
     "output_type": "stream",
     "text": [
      "Entrez le déclencheur du rotor 3 :B\n",
      "Le déclencheur du rotor 3 est :  b\n"
     ]
    }
   ],
   "source": [
    "import string\n",
    "\n",
    "def est_valide(chaine):\n",
    "    for caractere in chaine:\n",
    "        if caractere not in string.ascii_lowercase:\n",
    "            return False\n",
    "    return True\n",
    "\n",
    "declencheur_rotor3 = input(\"Entrez le déclencheur du rotor 3 :\")\n",
    "declencheur_rotor3 = declencheur_rotor3.lower()\n",
    "while (est_valide(declencheur_rotor3) == False) or ((len(declencheur_rotor3) == 1) == False):\n",
    "    declencheur_rotor3 = input(\"Le déclencheur n'est pas correct. Entrez à nouveau la lettre qui déclenchera la rotation du rotor 3 :\")\n",
    "print(\"Le déclencheur du rotor 3 est : \", declencheur_rotor3)"
   ]
  },
  {
   "cell_type": "code",
   "execution_count": 52,
   "id": "a8ce6eb2",
   "metadata": {},
   "outputs": [
    {
     "name": "stdout",
     "output_type": "stream",
     "text": [
      "['j', 'k', 'l', 'm', 'n', 'o', 'p', 'q', 'r', 's', 't', 'u', 'v', 'w', 'x', 'y', 'z', 'a', 'b', 'c', 'd', 'e', 'f', 'g', 'h', 'i', 'j', 'k']\n",
      "['j', 'k', 'l', 'm', 'n', 'o', 'p', 'q', 'r', 's', 't', 'u', 'v', 'w', 'x', 'y', 'z', 'a', 'b', 'c', 'd', 'e', 'f', 'g', 'h', 'i', 'j', 'k']\n",
      "True\n",
      "Le rotor tourne\n",
      "['k', 'l', 'm', 'n', 'o', 'p', 'q', 'r', 's', 't', 'u', 'v', 'w', 'x', 'y', 'z', 'a', 'b', 'c', 'd', 'e', 'f', 'g', 'h', 'i', 'j', 'k', 'j']\n",
      "['k', 'l', 'm', 'n', 'o', 'p', 'q', 'r', 's', 't', 'u', 'v', 'w', 'x', 'y', 'z', 'a', 'b', 'c', 'd', 'e', 'f', 'g', 'h', 'i', 'j', 'k', 'j']\n"
     ]
    }
   ],
   "source": [
    "rotations_rotor2 = 0\n",
    "alphabet_initial = list(string.ascii_lowercase)\n",
    "\n",
    "class Rotor:\n",
    "    def __init__(self, position_depart, alphabet):\n",
    "        self.position_depart = position_depart\n",
    "        self.alphabet = alphabet\n",
    "\n",
    "def decale_alphabet(alphabet):\n",
    "    alphabet = alphabet[1:] + [alphabet[0]]\n",
    "    return alphabet\n",
    "\n",
    "def creation_rotor(position_depart):\n",
    "    rotor = Rotor(position_depart, alphabet_initial[position_depart-1:] + alphabet_initial[:position_depart+1]) #car a = 0, etc. donc on décale\n",
    "    return rotor.position_depart, rotor.alphabet\n",
    "\n",
    "rotor2 = creation_rotor(10)\n",
    "print(rotor2[1])\n",
    "\n",
    "declencheur_rotor2 = \"f\"\n",
    "\n",
    "rotor1_alphabet = ['f', 'g', 'h', 'i', 'j', 'k', 'l', 'm', 'n', 'o', 'p', 'q', 'r', 's', 't', 'u', 'v', 'w', 'x', 'y', 'z', 'a', 'b', 'c', 'd', 'e', 'd', 'e']\n",
    "\n",
    "\n",
    "rotor2_alphabet = rotor2[1]\n",
    "print(rotor2_alphabet)\n",
    "\n",
    "def rotor_tourne(position_depart, alphabet):\n",
    "    rotor = Rotor(position_depart, decale_alphabet(alphabet))\n",
    "    print(\"Le rotor tourne\")\n",
    "    return rotor.position_depart, rotor.alphabet\n",
    "\n",
    "res = (rotor1_alphabet[0] == declencheur_rotor2)\n",
    "print(res)\n",
    "\n",
    "# VERIFICATION ROTATION ROTOR 2\n",
    "if rotor1_alphabet[0] == declencheur_rotor2:\n",
    "    rotor2 = rotor_tourne(rotor2[0], rotor2[1])\n",
    "    rotor2_alphabet = rotor2[1]\n",
    "    print(rotor2_alphabet)\n",
    "    rotations_rotor2 += 1\n",
    "\n",
    "print(rotor2_alphabet)"
   ]
  },
  {
   "cell_type": "code",
   "execution_count": 53,
   "id": "d43dbfa3",
   "metadata": {},
   "outputs": [
    {
     "data": {
      "text/plain": [
       "25"
      ]
     },
     "execution_count": 53,
     "metadata": {},
     "output_type": "execute_result"
    }
   ],
   "source": [
    "alphabet_initial.index(\"z\")"
   ]
  }
 ],
 "metadata": {
  "kernelspec": {
   "display_name": "Python 3 (ipykernel)",
   "language": "python",
   "name": "python3"
  },
  "language_info": {
   "codemirror_mode": {
    "name": "ipython",
    "version": 3
   },
   "file_extension": ".py",
   "mimetype": "text/x-python",
   "name": "python",
   "nbconvert_exporter": "python",
   "pygments_lexer": "ipython3",
   "version": "3.10.9"
  }
 },
 "nbformat": 4,
 "nbformat_minor": 5
}
